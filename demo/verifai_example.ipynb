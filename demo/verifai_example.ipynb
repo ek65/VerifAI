{
 "cells": [
  {
   "cell_type": "markdown",
   "metadata": {},
   "source": [
    "# Falsification with VerifAI\n",
    "\n",
    "Please ensure that the CARLA simulator is up and running on port 2000 before running the falsifier below. For more information, visit the [CARLA website](https://carla.org/). Also, be sure to install all the required dependencies by running `install.sh` from this directory."
   ]
  },
  {
   "cell_type": "code",
   "execution_count": 1,
   "metadata": {},
   "outputs": [
    {
     "name": "stderr",
     "output_type": "stream",
     "text": [
      "/home/scenic/Desktop/Carla/VerifiedAI/Scenic/src/scenic/core/errors.py:160: UserWarning: unable to install sys.excepthook to format Scenic backtraces\n",
      "  warnings.warn('unable to install sys.excepthook to format Scenic backtraces')\n"
     ]
    }
   ],
   "source": [
    "%load_ext autoreload\n",
    "%autoreload 2\n",
    "\n",
    "import time\n",
    "import numpy as np\n",
    "from dotmap import DotMap\n",
    "\n",
    "from verifai.samplers.scenic_sampler import ScenicSampler\n",
    "from verifai.scenic_server import ScenicServer\n",
    "from verifai.falsifier import generic_falsifier\n",
    "from verifai.monitor import specification_monitor\n",
    "from verifai.falsifier import generic_falsifier\n",
    "import networkx as nx\n",
    "import pandas as pd\n",
    "import matplotlib.pyplot as plt"
   ]
  },
  {
   "cell_type": "code",
   "execution_count": 2,
   "metadata": {},
   "outputs": [],
   "source": [
    "# The specification must assume multi_objective_monitor class\n",
    "class confidence_spec(specification_monitor):\n",
    "    def __init__(self):\n",
    "        def specification(traj):\n",
    "            return 1\n",
    "        \n",
    "        super().__init__(specification)"
   ]
  },
  {
   "cell_type": "code",
   "execution_count": 3,
   "metadata": {},
   "outputs": [],
   "source": [
    "def test_driving_dynamic():\n",
    "\n",
    "    path = 'carlaChallenge1.scenic'\n",
    "    sampler = ScenicSampler.fromScenario(path)\n",
    "    falsifier_params = DotMap(\n",
    "        n_iters=5,\n",
    "        save_error_table=True,\n",
    "        save_safe_table=True,\n",
    "    )\n",
    "    server_options = DotMap(maxSteps=200, verbosity=0)\n",
    "    monitor = confidence_spec()\n",
    "    \n",
    "    falsifier = generic_falsifier(sampler=sampler,\n",
    "                                  falsifier_params=falsifier_params,\n",
    "                                  server_class=ScenicServer,\n",
    "                                  server_options=server_options,\n",
    "                                  monitor=monitor)\n",
    "    t0 = time.time()\n",
    "    falsifier.run_falsifier()\n",
    "    t = time.time() - t0\n",
    "    print(f'Generated {len(falsifier.samples)} samples in {t} seconds with 1 worker')\n",
    "    print(f'Number of counterexamples: {len(falsifier.error_table.table)}')\n",
    "    return falsifier"
   ]
  },
  {
   "cell_type": "code",
   "execution_count": 4,
   "metadata": {
    "scrolled": false
   },
   "outputs": [
    {
     "name": "stdout",
     "output_type": "stream",
     "text": [
      "Initializing server\n",
      "Sample no:  0 \n",
      "Sample:  SpacePoint(objects=StructPoint(object0=StructPoint(angularSpeed=0.0, blueprint='vehicle.lincoln.mkz2017', carlaActor=None, color=Color(r=0.3773959306006354, g=0.4155612784062785, b=0.38199394003583564), elevation=None, heading=0.00021102855808918797, lastActions=None, length=4.5, physics=True, position=(396.30251261784133, -158.52232260700606), roadDeviation=0.0, rolename=None, speed=0.0, type='Car', velocity=(0.0, 0.0), width=2.0), object1=StructPoint(angularSpeed=0.0, blueprint='static.prop.dirtdebris01', carlaActor=None, color=None, elevation=None, heading=0.00021102855808918797, lastActions=None, length=0.5, physics=False, position=(396.29962375208356, -144.83286871929243), rolename=None, speed=0.0, type='Debris', velocity=(0.0, 0.0), width=0.5), object2=StructPoint(angularSpeed=0.0, blueprint='static.prop.dirtdebris03', carlaActor=None, color=None, elevation=None, heading=0.00021102855808918797, lastActions=None, length=0.5, physics=False, position=(396.2977813974969, -136.10251214617853), rolename=None, speed=0.0, type='Debris', velocity=(0.0, 0.0), width=0.5), object3=StructPoint(angularSpeed=0.0, blueprint='static.prop.dirtdebris03', carlaActor=None, color=None, elevation=None, heading=0.00021102855808918797, lastActions=None, length=0.5, physics=False, position=(396.29723743414, -133.5248356754841), rolename=None, speed=0.0, type='Debris', velocity=(0.0, 0.0), width=0.5)), params=StructPoint(address='127.0.0.1', carla_map='Town01', map='/home/scenic/Desktop/Carla/VerifiedAI/VerifAI/demo/maps/Town01.xodr', map_options={}, port=2000.0, record='', render=1.0, timeout=10.0, timestep=0.1, weather='CloudySunset')) \n",
      "Rho:  1\n",
      "Sample no:  1 \n",
      "Sample:  SpacePoint(objects=StructPoint(object0=StructPoint(angularSpeed=0.0, blueprint='vehicle.lincoln.mkz2017', carlaActor=None, color=Color(r=0.81516034250719, g=0.36433363947593356, b=0.2844080073135473), elevation=None, heading=-1.5708775862543112, lastActions=None, length=4.5, physics=True, position=(198.13033548304261, -199.14874781683335), roadDeviation=0.0, rolename=None, speed=0.0, type='Car', velocity=(0.0, -0.0), width=2.0), object1=StructPoint(angularSpeed=0.0, blueprint='static.prop.dirtdebris01', carlaActor=None, color=None, elevation=None, heading=-1.5708775862543112, lastActions=None, length=0.5, physics=False, position=(210.6702935704989, -199.14976680705087), rolename=None, speed=0.0, type='Debris', velocity=(0.0, -0.0), width=0.5), object2=StructPoint(angularSpeed=0.0, blueprint='static.prop.dirtdebris02', carlaActor=None, color=None, elevation=None, heading=-1.5708775862543112, lastActions=None, length=0.5, physics=False, position=(221.517448336704, -199.1506482409854), rolename=None, speed=0.0, type='Debris', velocity=(0.0, -0.0), width=0.5), object3=StructPoint(angularSpeed=0.0, blueprint='static.prop.dirtdebris03', carlaActor=None, color=None, elevation=None, heading=-1.5708775862543112, lastActions=None, length=0.5, physics=False, position=(229.70850213383952, -199.15131384159037), rolename=None, speed=0.0, type='Debris', velocity=(0.0, -0.0), width=0.5)), params=StructPoint(address='127.0.0.1', carla_map='Town01', map='/home/scenic/Desktop/Carla/VerifiedAI/VerifAI/demo/maps/Town01.xodr', map_options={}, port=2000.0, record='', render=1.0, timeout=10.0, timestep=0.1, weather='ClearNoon')) \n",
      "Rho:  1\n",
      "Sample no:  2 \n",
      "Sample:  SpacePoint(objects=StructPoint(object0=StructPoint(angularSpeed=0.0, blueprint='vehicle.lincoln.mkz2017', carlaActor=None, color=Color(r=0.2627266127146112, g=0.5652639077655662, b=0.4238402598763429), elevation=None, heading=0.00015201268859166284, lastActions=None, length=4.5, physics=True, position=(92.40951781630096, -259.9458994728825), roadDeviation=0.0, rolename=None, speed=0.0, type='Car', velocity=(0.0, 0.0), width=2.0), object1=StructPoint(angularSpeed=0.0, blueprint='static.prop.dirtdebris02', carlaActor=None, color=None, elevation=None, heading=0.00015201268859166284, lastActions=None, length=0.5, physics=False, position=(92.40702544254808, -243.5500725404993), rolename=None, speed=0.0, type='Debris', velocity=(0.0, 0.0), width=0.5), object2=StructPoint(angularSpeed=0.0, blueprint='static.prop.dirtdebris01', carlaActor=None, color=None, elevation=None, heading=0.00015201268859166284, lastActions=None, length=0.5, physics=False, position=(92.40567982714813, -234.69807865704468), rolename=None, speed=0.0, type='Debris', velocity=(0.0, 0.0), width=0.5), object3=StructPoint(angularSpeed=0.0, blueprint='static.prop.dirtdebris02', carlaActor=None, color=None, elevation=None, heading=0.00015201268859166284, lastActions=None, length=0.5, physics=False, position=(92.40446172249543, -226.68490124021173), rolename=None, speed=0.0, type='Debris', velocity=(0.0, 0.0), width=0.5)), params=StructPoint(address='127.0.0.1', carla_map='Town01', map='/home/scenic/Desktop/Carla/VerifiedAI/VerifAI/demo/maps/Town01.xodr', map_options={}, port=2000.0, record='', render=1.0, timeout=10.0, timestep=0.1, weather='HardRainSunset')) \n",
      "Rho:  1\n",
      "Sample no:  3 \n",
      "Sample:  SpacePoint(objects=StructPoint(object0=StructPoint(angularSpeed=0.0, blueprint='vehicle.lincoln.mkz2017', carlaActor=None, color=Color(r=0.4281896536939691, g=0.27788953555212115, b=0.27788953555212115), elevation=None, heading=-1.5713320267772914, lastActions=None, length=4.5, physics=True, position=(16.016523055720956, -330.54319600879865), roadDeviation=0.0, rolename=None, speed=0.0, type='Car', velocity=(0.0, -0.0), width=2.0), object1=StructPoint(angularSpeed=0.0, blueprint='static.prop.dirtdebris02', carlaActor=None, color=None, elevation=None, heading=-1.5713320267772914, lastActions=None, length=0.5, physics=False, position=(33.482250864926016, -330.5525523997736), rolename=None, speed=0.0, type='Debris', velocity=(0.0, -0.0), width=0.5), object2=StructPoint(angularSpeed=0.0, blueprint='static.prop.dirtdebris02', carlaActor=None, color=None, elevation=None, heading=-1.5713320267772914, lastActions=None, length=0.5, physics=False, position=(35.907610316632216, -330.5538516649134), rolename=None, speed=0.0, type='Debris', velocity=(0.0, -0.0), width=0.5), object3=StructPoint(angularSpeed=0.0, blueprint='static.prop.dirtdebris01', carlaActor=None, color=None, elevation=None, heading=-1.5713320267772914, lastActions=None, length=0.5, physics=False, position=(45.74769972584995, -330.5591230011411), rolename=None, speed=0.0, type='Debris', velocity=(0.0, -0.0), width=0.5)), params=StructPoint(address='127.0.0.1', carla_map='Town01', map='/home/scenic/Desktop/Carla/VerifiedAI/VerifAI/demo/maps/Town01.xodr', map_options={}, port=2000.0, record='', render=1.0, timeout=10.0, timestep=0.1, weather='SoftRainNoon')) \n",
      "Rho:  1\n",
      "Sample no:  4 \n",
      "Sample:  SpacePoint(objects=StructPoint(object0=StructPoint(angularSpeed=0.0, blueprint='vehicle.lincoln.mkz2017', carlaActor=None, color=Color(r=0.24278063068264166, g=0.717024897719463, b=0.7227867482845858), elevation=None, heading=-1.8321850701119204, lastActions=None, length=4.5, physics=True, position=(6.818496361283597, -330.23174212362557), roadDeviation=0.0, rolename=None, speed=0.0, type='Car', velocity=(0.0, -0.0), width=2.0), object1=StructPoint(angularSpeed=0.0, blueprint='static.prop.dirtdebris02', carlaActor=None, color=None, elevation=None, heading=-1.5713320267772914, lastActions=None, length=0.5, physics=False, position=(22.89782653450565, -331.285969660029), rolename=None, speed=0.0, type='Debris', velocity=(0.0, -0.0), width=0.5), object2=StructPoint(angularSpeed=0.0, blueprint='static.prop.dirtdebris01', carlaActor=None, color=None, elevation=None, heading=-1.5713320267772914, lastActions=None, length=0.5, physics=False, position=(31.543193650610405, -331.2791670602666), rolename=None, speed=0.0, type='Debris', velocity=(0.0, -0.0), width=0.5), object3=StructPoint(angularSpeed=0.0, blueprint='static.prop.dirtdebris03', carlaActor=None, color=None, elevation=None, heading=-1.5713320267772914, lastActions=None, length=0.5, physics=False, position=(37.0955886332765, -331.16129338122016), rolename=None, speed=0.0, type='Debris', velocity=(0.0, -0.0), width=0.5)), params=StructPoint(address='127.0.0.1', carla_map='Town01', map='/home/scenic/Desktop/Carla/VerifiedAI/VerifAI/demo/maps/Town01.xodr', map_options={}, port=2000.0, record='', render=1.0, timeout=10.0, timestep=0.1, weather='SoftRainSunset')) \n",
      "Rho:  1\n",
      "Generated 5 samples in 30.424497365951538 seconds with 1 worker\n",
      "Number of counterexamples: 0\n"
     ]
    }
   ],
   "source": [
    "falsifier = test_driving_dynamic()"
   ]
  },
  {
   "cell_type": "code",
   "execution_count": 9,
   "metadata": {},
   "outputs": [],
   "source": [
    "df = pd.concat([falsifier.safe_table.table, falsifier.error_table.table])"
   ]
  },
  {
   "cell_type": "code",
   "execution_count": 10,
   "metadata": {
    "scrolled": true
   },
   "outputs": [
    {
     "data": {
      "image/png": "[encoded data removed]",
      "text/plain": [
       "<Figure size 432x288 with 1 Axes>"
      ]
     },
     "metadata": {
      "needs_background": "light"
     },
     "output_type": "display_data"
    }
   ],
   "source": [
    "plt.scatter(df['point.objects.object0.position[0]'], df['point.objects.object1.position[0]'], c=df['rho'] < 0);"
   ]
  },
  {
   "cell_type": "code",
   "execution_count": null,
   "metadata": {},
   "outputs": [],
   "source": []
  }
 ],
 "metadata": {
  "kernelspec": {
   "display_name": "verifai_env",
   "language": "python",
   "name": "verifai_env"
  },
  "language_info": {
   "codemirror_mode": {
    "name": "ipython",
    "version": 3
   },
   "file_extension": ".py",
   "mimetype": "text/x-python",
   "name": "python",
   "nbconvert_exporter": "python",
   "pygments_lexer": "ipython3",
   "version": "3.8.6"
  }
 },
 "nbformat": 4,
 "nbformat_minor": 4
}
